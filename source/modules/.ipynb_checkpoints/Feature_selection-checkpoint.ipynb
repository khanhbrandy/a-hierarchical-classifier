{
 "cells": [
  {
   "cell_type": "code",
   "execution_count": 1,
   "metadata": {
    "colab": {
     "base_uri": "https://localhost:8080/",
     "height": 105
    },
    "colab_type": "code",
    "executionInfo": {
     "elapsed": 2939,
     "status": "ok",
     "timestamp": 1580703952481,
     "user": {
      "displayName": "Trinh Khanh",
      "photoUrl": "",
      "userId": "17861245512727474138"
     },
     "user_tz": -420
    },
    "id": "zz2Owmm3OcxQ",
    "outputId": "9091d6c6-103f-424c-8963-5b67df8621b8",
    "scrolled": false
   },
   "outputs": [
    {
     "ename": "ImportError",
     "evalue": "attempted relative import with no known parent package",
     "output_type": "error",
     "traceback": [
      "\u001b[0;31m---------------------------------------------------------------------------\u001b[0m",
      "\u001b[0;31mImportError\u001b[0m                               Traceback (most recent call last)",
      "\u001b[0;32m<ipython-input-1-dcc78c646926>\u001b[0m in \u001b[0;36m<module>\u001b[0;34m\u001b[0m\n\u001b[1;32m      3\u001b[0m \u001b[0;32mimport\u001b[0m \u001b[0mtime\u001b[0m\u001b[0;34m\u001b[0m\u001b[0;34m\u001b[0m\u001b[0m\n\u001b[1;32m      4\u001b[0m \u001b[0;32mfrom\u001b[0m \u001b[0mmodel\u001b[0m \u001b[0;32mimport\u001b[0m \u001b[0mModel\u001b[0m\u001b[0;34m\u001b[0m\u001b[0;34m\u001b[0m\u001b[0m\n\u001b[0;32m----> 5\u001b[0;31m \u001b[0;32mfrom\u001b[0m \u001b[0mpreprocess\u001b[0m \u001b[0;32mimport\u001b[0m \u001b[0mPreprocessor\u001b[0m\u001b[0;34m\u001b[0m\u001b[0;34m\u001b[0m\u001b[0m\n\u001b[0m\u001b[1;32m      6\u001b[0m \u001b[0;32mimport\u001b[0m \u001b[0mconfig\u001b[0m\u001b[0;34m\u001b[0m\u001b[0;34m\u001b[0m\u001b[0m\n\u001b[1;32m      7\u001b[0m \u001b[0;32mimport\u001b[0m \u001b[0mos\u001b[0m\u001b[0;34m\u001b[0m\u001b[0;34m\u001b[0m\u001b[0m\n",
      "\u001b[0;32m~/Desktop/GitHub/kv_industry_classification/source/modules/preprocess.py\u001b[0m in \u001b[0;36m<module>\u001b[0;34m\u001b[0m\n\u001b[1;32m      9\u001b[0m \u001b[0;32mimport\u001b[0m \u001b[0mtime\u001b[0m\u001b[0;34m\u001b[0m\u001b[0;34m\u001b[0m\u001b[0m\n\u001b[1;32m     10\u001b[0m \u001b[0;32mfrom\u001b[0m \u001b[0msklearn\u001b[0m \u001b[0;32mimport\u001b[0m \u001b[0mpreprocessing\u001b[0m\u001b[0;34m\u001b[0m\u001b[0;34m\u001b[0m\u001b[0m\n\u001b[0;32m---> 11\u001b[0;31m \u001b[0;32mfrom\u001b[0m \u001b[0;34m.\u001b[0m \u001b[0;32mimport\u001b[0m \u001b[0mconfig\u001b[0m\u001b[0;34m\u001b[0m\u001b[0;34m\u001b[0m\u001b[0m\n\u001b[0m\u001b[1;32m     12\u001b[0m \u001b[0;34m\u001b[0m\u001b[0m\n\u001b[1;32m     13\u001b[0m \u001b[0;32mclass\u001b[0m \u001b[0mPreprocessor\u001b[0m\u001b[0;34m:\u001b[0m\u001b[0;34m\u001b[0m\u001b[0;34m\u001b[0m\u001b[0m\n",
      "\u001b[0;31mImportError\u001b[0m: attempted relative import with no known parent package"
     ]
    }
   ],
   "source": [
    "import pandas as pd\n",
    "import numpy as np\n",
    "import time\n",
    "from model import Model\n",
    "from preprocess import Preprocessor\n",
    "import config\n",
    "import os\n",
    "import shutil\n",
    "import joblib\n",
    "from copy import copy as make_copy\n",
    "\n",
    "\n",
    "def build(data_paths, label_paths):\n",
    "    model = Model()\n",
    "    preprocessor = Preprocessor()\n",
    "    for target in preprocessor.multi_bi_clf.keys():\n",
    "        clf = make_copy(model.xgb_clf)\n",
    "        final_df = preprocessor.combineData(data_paths, label_paths, target)\n",
    "        # Train/Test split\n",
    "        X, y, X_train, X_test, y_train, y_test = model.train_test_split(clf, final_df)\n",
    "        model.train(clf, X_train, y_train, X_test, y_test)\n",
    "        model.cross_validate(clf, X, y)\n",
    "        # Store predictions\n",
    "        save_dir = os.path.join(os.getcwd(), config.model_dir, target)\n",
    "        save_path = os.path.join(save_dir,target+'_predictions.csv')\n",
    "        if not os.path.exists(save_dir):\n",
    "            os.makedirs(save_dir)\n",
    "        y_pred, y_pred_proba = model.predict(clf, X)\n",
    "        final_df['pred_proba'] = y_pred_proba\n",
    "        final_df['pred'] = y_pred\n",
    "        final_df.to_csv(save_path, index=False, encoding='utf8')\n",
    "        # Dump trained model\n",
    "        joblib.dump(clf, os.path.join(save_dir, config.model_name))\n",
    "        print('Result and model for {} saved! \\n'.format(target))\n",
    "    pass\n",
    "\n",
    "def transform(data_paths, label_paths):\n",
    "    preprocessor = Preprocessor()\n",
    "    final_df = preprocessor.combineData(data_paths, label_paths)\n",
    "#     final_df.to_csv('final_df.csv', index=False, encoding='utf-8-sig')\n",
    "    return final_df\n",
    "\n",
    "\n",
    "if __name__ == '__main__':\n",
    "    data_paths = [\n",
    "                    config.training_data_1,\n",
    "                    config.training_data_2,\n",
    "                    config.training_data_3,\n",
    "                    config.training_data_4,\n",
    "                    config.training_data_5,\n",
    "                    config.training_data_6,\n",
    "                    config.training_data_7,\n",
    "                    config.training_data_8,\n",
    "                    config.training_data_9,\n",
    "                    config.training_data_10,\n",
    "                    config.training_data_11,\n",
    "                    config.training_data_12,\n",
    "                    ]\n",
    "    label_paths = [\n",
    "                    config.training_label_1,\n",
    "                    config.training_label_2,\n",
    "                    config.training_label_3,\n",
    "                    config.training_label_4,\n",
    "                    config.training_label_5,\n",
    "                    config.training_label_6,\n",
    "                    config.training_label_7,\n",
    "                    config.training_label_8,\n",
    "                    config.training_label_9,\n",
    "                    config.training_label_10,\n",
    "                    config.training_label_11,\n",
    "                    config.training_label_12,\n",
    "                    \n",
    "                    ]\n",
    "#     build(data_paths = data_paths, label_paths = label_paths)\n",
    "    target = 'Nhà thuốc'\n",
    "    final_df = transform(data_paths = data_paths, label_paths = label_paths, target=target)"
   ]
  },
  {
   "cell_type": "code",
   "execution_count": 218,
   "metadata": {},
   "outputs": [],
   "source": [
    "# final_df.to_csv('train.csv', index=False, encoding='utf8')"
   ]
  },
  {
   "cell_type": "code",
   "execution_count": 219,
   "metadata": {
    "scrolled": true
   },
   "outputs": [],
   "source": [
    "data = final_df"
   ]
  },
  {
   "cell_type": "markdown",
   "metadata": {
    "colab_type": "text",
    "id": "wrjsBeAGOcxS"
   },
   "source": [
    "### Preprocessing"
   ]
  },
  {
   "cell_type": "code",
   "execution_count": 220,
   "metadata": {
    "colab": {
     "base_uri": "https://localhost:8080/",
     "height": 71
    },
    "colab_type": "code",
    "executionInfo": {
     "elapsed": 701,
     "status": "ok",
     "timestamp": 1580704049605,
     "user": {
      "displayName": "Trinh Khanh",
      "photoUrl": "",
      "userId": "17861245512727474138"
     },
     "user_tz": -420
    },
    "id": "P7jYx2fOOcxf",
    "outputId": "22e24703-6120-4054-e43d-ffd796aaf38d"
   },
   "outputs": [],
   "source": [
    "from sklearn import model_selection\n",
    "X, y = data.iloc[:,1:-1],data.iloc[:,-1]\n",
    "# Declare fold\n",
    "seed = 103\n",
    "n_fold = 5\n",
    "test_size = 0.3\n",
    "\n",
    "# folds = StratifiedKFold(n_splits = n_fold, random_state = seed)\n",
    "# # Train-Test split\n",
    "\n",
    "# X_train_o, X_test, y_train_o, y_test = train_test_split(X, y, test_size=test_size, random_state=seed)\n",
    "# # Resampling\n",
    "# def resample(X_train_o,y_train_o,seed,re=True):\n",
    "#     if re:\n",
    "#         # resam = RandomOverSampler(random_state=seed)\n",
    "#         resam=SMOTE(random_state=seed)\n",
    "#         resam.fit(X_train_o, y_train_o)\n",
    "#         X_train, y_train = resam.fit_resample(X_train_o, y_train_o)\n",
    "#         X_train = pd.DataFrame(X_train, columns=X_train_o.columns)\n",
    "#         y_train = pd.Series(y_train)\n",
    "#     else:\n",
    "#          X_train, y_train = X_train_o,y_train_o\n",
    "#     return X_train, y_train\n",
    "X_train, X_test, y_train, y_test = model_selection.train_test_split(X, y\n",
    "                                                    , test_size=test_size\n",
    "                                                    , random_state=seed)"
   ]
  },
  {
   "cell_type": "code",
   "execution_count": 221,
   "metadata": {
    "colab": {},
    "colab_type": "code",
    "id": "ZcZwwNshOcxh"
   },
   "outputs": [],
   "source": [
    "import xgboost as xgb\n",
    "model = xgb.XGBClassifier(\n",
    "                    reg_lambda= 10, \n",
    "                    reg_alpha= 10, \n",
    "                    objective= 'binary:logistic', \n",
    "                    eval_metric = \"error\",\n",
    "                    n_estimators= 100, \n",
    "                    max_depth= 5, \n",
    "                    random_state=seed,\n",
    "                    use_label_encoder=False\n",
    "                      )"
   ]
  },
  {
   "cell_type": "code",
   "execution_count": 222,
   "metadata": {
    "colab": {
     "base_uri": "https://localhost:8080/",
     "height": 1000
    },
    "colab_type": "code",
    "executionInfo": {
     "elapsed": 37230,
     "status": "ok",
     "timestamp": 1580704092867,
     "user": {
      "displayName": "Trinh Khanh",
      "photoUrl": "",
      "userId": "17861245512727474138"
     },
     "user_tz": -420
    },
    "id": "TO_HYJnXOcxk",
    "outputId": "19f23a80-18ae-4a17-825e-e8d3945b9b40",
    "scrolled": true
   },
   "outputs": [
    {
     "data": {
      "text/plain": [
       "XGBClassifier(base_score=0.5, booster='gbtree', colsample_bylevel=1,\n",
       "              colsample_bynode=1, colsample_bytree=1, eval_metric='error',\n",
       "              gamma=0, gpu_id=-1, importance_type='gain',\n",
       "              interaction_constraints='', learning_rate=0.300000012,\n",
       "              max_delta_step=0, max_depth=5, min_child_weight=1, missing=nan,\n",
       "              monotone_constraints='()', n_estimators=100, n_jobs=4,\n",
       "              num_parallel_tree=1, random_state=103, reg_alpha=10,\n",
       "              reg_lambda=10, scale_pos_weight=1, subsample=1,\n",
       "              tree_method='exact', use_label_encoder=False,\n",
       "              validate_parameters=1, verbosity=None)"
      ]
     },
     "execution_count": 222,
     "metadata": {},
     "output_type": "execute_result"
    }
   ],
   "source": [
    "eval_set = [(X_train, y_train), (X_test, y_test)]\n",
    "eval_metric = [\n",
    "               \"logloss\",\n",
    "               \"auc\"\n",
    "#                \"aucpr\",\n",
    "#                \"error\",\n",
    "              ]\n",
    "# model.fit(X_train, y_train, eval_metric=eval_metric, eval_set=eval_set, verbose=True,early_stopping_rounds=50000)\n",
    "model.fit(X_train, y_train)"
   ]
  },
  {
   "cell_type": "code",
   "execution_count": 223,
   "metadata": {
    "colab": {
     "base_uri": "https://localhost:8080/",
     "height": 34
    },
    "colab_type": "code",
    "executionInfo": {
     "elapsed": 656,
     "status": "ok",
     "timestamp": 1579518478600,
     "user": {
      "displayName": "Trinh Khanh",
      "photoUrl": "",
      "userId": "17861245512727474138"
     },
     "user_tz": -420
    },
    "id": "gkaxh4hwoyBI",
    "outputId": "c9b579aa-327e-4009-a811-05feab6a7945"
   },
   "outputs": [],
   "source": [
    "# from sklearn import metrics\n",
    "# from matplotlib import pyplot as plt\n",
    "# import seaborn as sns\n",
    "\n",
    "# metric = 'logloss'\n",
    "# results = model.evals_result()\n",
    "# epochs = len(results['validation_0'][metric])\n",
    "# x_axis = range(0, epochs)\n",
    "\n",
    "# fig, ax = plt.subplots()\n",
    "# ax.plot(x_axis, results['validation_0'][metric], label='Train')\n",
    "# ax.plot(x_axis, results['validation_1'][metric], label='Test')\n",
    "# ax.legend()\n",
    "# plt.ylabel('{}'.format(metric))\n",
    "# plt.title('{} Classification {}'.format(target, metric))\n",
    "# plt.show()"
   ]
  },
  {
   "cell_type": "code",
   "execution_count": 224,
   "metadata": {
    "colab": {
     "base_uri": "https://localhost:8080/",
     "height": 295
    },
    "colab_type": "code",
    "executionInfo": {
     "elapsed": 94519,
     "status": "ok",
     "timestamp": 1577258145601,
     "user": {
      "displayName": "Trinh Khanh",
      "photoUrl": "",
      "userId": "17861245512727474138"
     },
     "user_tz": -420
    },
    "id": "svUEN_lNTcWx",
    "outputId": "d7f2b14f-f962-4acb-e569-0612489a2d08"
   },
   "outputs": [
    {
     "data": {
      "image/png": "[encoded data removed]",
      "text/plain": [
       "<Figure size 432x288 with 1 Axes>"
      ]
     },
     "metadata": {
      "needs_background": "light"
     },
     "output_type": "display_data"
    }
   ],
   "source": [
    "from sklearn import metrics\n",
    "from matplotlib import pyplot as plt\n",
    "import seaborn as sns\n",
    "\n",
    "def roc_auc_viz(target_test,test_preds):\n",
    "    fpr, tpr, threshold = metrics.roc_curve(target_test, test_preds)\n",
    "    roc_auc = metrics.auc(fpr, tpr)    \n",
    "    gini_score=2*roc_auc-1\n",
    "    plt.title('{} Receiver Operating Characteristic'.format(target))\n",
    "    plt.plot(fpr, tpr, 'b', label = 'AUC = {:.3f} and GINI = {:.3f}'.format(roc_auc,gini_score))\n",
    "    plt.legend(loc = 'lower right')\n",
    "    plt.plot([0, 1], [0, 1],'r--')\n",
    "    plt.ylabel('True Positive Rate')\n",
    "    plt.xlabel('False Positive Rate')\n",
    "\n",
    "\n",
    "roc_auc_viz(y_test, model.predict_proba(X_test)[:,1])"
   ]
  },
  {
   "cell_type": "markdown",
   "metadata": {
    "colab_type": "text",
    "id": "fk5hxm7zHH53"
   },
   "source": [
    "**Feature importance**"
   ]
  },
  {
   "cell_type": "code",
   "execution_count": 225,
   "metadata": {
    "colab": {},
    "colab_type": "code",
    "id": "ikg2TNcHoaYP"
   },
   "outputs": [],
   "source": [
    "feature_importance=pd.DataFrame(model.get_booster().get_score(importance_type='gain'), index=[0]) \n",
    "feature_importance_labeled=feature_importance.T.reset_index()\n",
    "feature_importance_labeled.rename(columns={'index':'item',0:'importance score'},inplace=True)\n",
    "test=feature_importance_labeled.sort_values(by='importance score', ascending=False).head(20)"
   ]
  },
  {
   "cell_type": "code",
   "execution_count": 226,
   "metadata": {
    "colab": {
     "base_uri": "https://localhost:8080/",
     "height": 281
    },
    "colab_type": "code",
    "executionInfo": {
     "elapsed": 1116,
     "status": "ok",
     "timestamp": 1576839480467,
     "user": {
      "displayName": "Trinh Khanh",
      "photoUrl": "",
      "userId": "04507663442506479184"
     },
     "user_tz": -420
    },
    "id": "5P-HVWOyoaYQ",
    "outputId": "718f8f22-9c38-449a-c993-36438669c0e2",
    "scrolled": true
   },
   "outputs": [
    {
     "data": {
      "image/png": "[encoded data removed]",
      "text/plain": [
       "<Figure size 432x288 with 1 Axes>"
      ]
     },
     "metadata": {
      "needs_background": "light"
     },
     "output_type": "display_data"
    }
   ],
   "source": [
    "objects = test['item']\n",
    "y_pos = np.arange(len(objects))\n",
    "performance = test['importance score']\n",
    "\n",
    "plt.barh(y_pos, performance, align='center', alpha=0.5,color='green', height=0.8)\n",
    "plt.yticks(y_pos, objects)\n",
    "plt.xlabel('')\n",
    "plt.title('Feature importance')\n",
    "plt.gca().invert_yaxis()"
   ]
  },
  {
   "cell_type": "markdown",
   "metadata": {
    "colab_type": "text",
    "id": "WQ3P0DwAoaYT"
   },
   "source": [
    "### Feature selection"
   ]
  },
  {
   "cell_type": "code",
   "execution_count": 227,
   "metadata": {
    "colab": {},
    "colab_type": "code",
    "id": "Z6VgtJbToaYW"
   },
   "outputs": [],
   "source": [
    "def extract_pruned_features(feature_importances, min_score):\n",
    "    column_slice = feature_importances[feature_importances['gain'] > min_score]\n",
    "    return column_slice.index.values"
   ]
  },
  {
   "cell_type": "code",
   "execution_count": 228,
   "metadata": {
    "colab": {},
    "colab_type": "code",
    "id": "QBBU38pqoaYY"
   },
   "outputs": [],
   "source": [
    "feature_list = pd.DataFrame(model.feature_importances_, columns=['gain'], index=X_train.columns)\n",
    "feature_list = feature_list.sort_values(by=['gain'], ascending=False)\n",
    "pruned_features=extract_pruned_features(feature_list, min_score=0.005)"
   ]
  },
  {
   "cell_type": "code",
   "execution_count": 229,
   "metadata": {
    "colab": {
     "base_uri": "https://localhost:8080/",
     "height": 340
    },
    "colab_type": "code",
    "executionInfo": {
     "elapsed": 1159,
     "status": "ok",
     "timestamp": 1576842803150,
     "user": {
      "displayName": "Trinh Khanh",
      "photoUrl": "",
      "userId": "04507663442506479184"
     },
     "user_tz": -420
    },
    "id": "SluYvfWp3Wd2",
    "outputId": "8bed0b69-d7cb-47da-81ee-83c64023f53c",
    "scrolled": false
   },
   "outputs": [
    {
     "data": {
      "text/plain": [
       "array(['Bánh kẹo', 'Thực phẩm - Đồ uống', 'Đồ dùng phòng bếp',\n",
       "       'Đồ gia dụng', 'Thực phẩm đã qua chế biến', 'Đồ gia dụng khác',\n",
       "       'Đồ dùng phòng ăn', 'Dụng cụ vệ sinh nhà cửa',\n",
       "       'Đồ uống - Giải khát', 'Thiết bị nhà bếp', 'Trang trí nhà cửa',\n",
       "       'Thiết bị giặt ủi, chăm sóc quần áo', 'Phụ kiện điện thoại',\n",
       "       'Điều hòa, làm sạch phòng', 'Sách & Quà lưu niệm',\n",
       "       'Dinh dưỡng cho bé', 'Mẹ và bé', 'Thời trang nam',\n",
       "       'Chăm sóc cá nhân', 'Thiết bị văn phòng', 'Đồ dùng nhà tắm',\n",
       "       'Nội thất phòng tắm', 'Chó', 'Sửa chữa nhà cửa', 'Chăm sóc cơ thể',\n",
       "       'Nội thất', 'Thiết bị điện gia dụng',\n",
       "       'Thiết bị Âm thanh & Nhạc cụ', 'Chăm sóc thú cưng',\n",
       "       'Hoa và cây cảnh', 'Đồ dùng dã ngoại', 'Phụ kiện bên trong oto',\n",
       "       'Thực phẩm khô', 'Đồng hồ, mắt kính', 'Chăm sóc da', 'Thuốc',\n",
       "       'Chim', 'Giày dép nữ', 'Đồ chơi khác', 'Thực phẩm - Đồ uống khác',\n",
       "       'Trang sức nữ', 'Thực phẩm chức năng', 'Bỉm - Tã',\n",
       "       'Chăm sóc thú cưng khác', 'Trang điểm', 'Tai nghe'], dtype=object)"
      ]
     },
     "execution_count": 229,
     "metadata": {},
     "output_type": "execute_result"
    }
   ],
   "source": [
    "pruned_features"
   ]
  },
  {
   "cell_type": "code",
   "execution_count": null,
   "metadata": {},
   "outputs": [],
   "source": []
  },
  {
   "cell_type": "code",
   "execution_count": null,
   "metadata": {},
   "outputs": [],
   "source": []
  },
  {
   "cell_type": "code",
   "execution_count": null,
   "metadata": {},
   "outputs": [],
   "source": []
  }
 ],
 "metadata": {
  "accelerator": "GPU",
  "colab": {
   "collapsed_sections": [],
   "name": "Feature_selection.ipynb",
   "provenance": []
  },
  "kernelspec": {
   "display_name": "Python 3",
   "language": "python",
   "name": "python3"
  },
  "language_info": {
   "codemirror_mode": {
    "name": "ipython",
    "version": 3
   },
   "file_extension": ".py",
   "mimetype": "text/x-python",
   "name": "python",
   "nbconvert_exporter": "python",
   "pygments_lexer": "ipython3",
   "version": "3.8.3"
  }
 },
 "nbformat": 4,
 "nbformat_minor": 1
}
